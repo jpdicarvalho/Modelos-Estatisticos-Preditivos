{
  "nbformat": 4,
  "nbformat_minor": 0,
  "metadata": {
    "colab": {
      "provenance": [],
      "authorship_tag": "ABX9TyOQZbMr+0YEzMVx39TNA6ys",
      "include_colab_link": true
    },
    "kernelspec": {
      "name": "python3",
      "display_name": "Python 3"
    },
    "language_info": {
      "name": "python"
    }
  },
  "cells": [
    {
      "cell_type": "markdown",
      "metadata": {
        "id": "view-in-github",
        "colab_type": "text"
      },
      "source": [
        "<a href=\"https://colab.research.google.com/github/jpdicarvalho/Modelos-Estatisticos-Preditivos/blob/main/Regress%C3%A3o_Polinomial_(graus_2%2C_3%2C_4)_Previs%C3%A3o_para_o_ano_de_2023.ipynb\" target=\"_parent\"><img src=\"https://colab.research.google.com/assets/colab-badge.svg\" alt=\"Open In Colab\"/></a>"
      ]
    },
    {
      "cell_type": "code",
      "execution_count": null,
      "metadata": {
        "id": "RRaEVpCqnZXV"
      },
      "outputs": [],
      "source": [
        "from sklearn.preprocessing import PolynomialFeatures\n",
        "\n",
        "# Função para treinar e avaliar modelo de Regressão Polinomial com diferentes graus\n",
        "def train_and_evaluate_polynomial_model(data, regions, degree):\n",
        "    results = []\n",
        "\n",
        "    for region in regions:\n",
        "        region_data = np.array(data[region], dtype=float)  # Garantir tipo float\n",
        "\n",
        "        # Remover valores nulos para treinamento\n",
        "        valid_indices = ~np.isnan(region_data)\n",
        "        years_valid = np.array(data[\"Year\"])[valid_indices].reshape(-1, 1)\n",
        "        values_valid = region_data[valid_indices]\n",
        "\n",
        "        # Criar termos polinomiais\n",
        "        poly = PolynomialFeatures(degree=degree)\n",
        "        years_poly = poly.fit_transform(years_valid)\n",
        "\n",
        "        # Dividir os dados em treino (80%) e teste (20%)\n",
        "        X_train, X_test, y_train, y_test = train_test_split(years_poly, values_valid, test_size=0.2, random_state=42)\n",
        "\n",
        "        # Regressão Polinomial\n",
        "        model = LinearRegression()\n",
        "        model.fit(X_train, y_train)\n",
        "\n",
        "        # Previsão para os dados de teste\n",
        "        y_pred = model.predict(X_test)\n",
        "\n",
        "        # Métricas de erro\n",
        "        mae = mean_absolute_error(y_test, y_pred)\n",
        "        mse = mean_squared_error(y_test, y_pred)\n",
        "        rmse = np.sqrt(mse)\n",
        "        r2 = r2_score(y_test, y_pred)\n",
        "\n",
        "        # Previsão para 2023\n",
        "        future_year_poly = poly.transform([[2023]])\n",
        "        future_prediction = model.predict(future_year_poly)\n",
        "\n",
        "        # Coeficientes do modelo\n",
        "        intercept = model.intercept_\n",
        "        coefficients = model.coef_\n",
        "\n",
        "        # Armazenar os resultados\n",
        "        results.append({\n",
        "            \"Região\": region,\n",
        "            \"Grau do Polinômio\": degree,\n",
        "            \"Intercepto\": intercept,\n",
        "            \"Coeficientes\": coefficients.tolist(),\n",
        "            \"R² Treino\": model.score(X_train, y_train),\n",
        "            \"R² Teste\": r2,\n",
        "            \"MAE\": mae,\n",
        "            \"MSE\": mse,\n",
        "            \"RMSE\": rmse,\n",
        "            \"Produção Estimada em 2023\": future_prediction[0]\n",
        "        })\n",
        "\n",
        "        # Gráfico para a região\n",
        "        plt.figure(figsize=(6, 4))\n",
        "        plt.scatter(years_valid, values_valid, color=\"blue\", label=\"Dados reais\")\n",
        "        plt.plot(years_valid, model.predict(years_poly), color=\"red\", label=f\"Regressão Polinomial (Grau {degree})\")\n",
        "        plt.scatter(X_test[:, 1], y_test, color=\"orange\", label=\"Dados de teste\", zorder=5)\n",
        "        plt.scatter(2023, future_prediction, color=\"green\", label=\"Previsão 2023\", zorder=6)\n",
        "        plt.title(f\"Regressão Polinomial (Grau {degree}) - {region}\")\n",
        "        plt.xlabel(\"Ano\")\n",
        "        plt.ylabel(\"Produção\")\n",
        "        plt.legend()\n",
        "        plt.grid()\n",
        "        plt.show()\n",
        "\n",
        "    return pd.DataFrame(results)\n",
        "\n",
        "# Testar diferentes graus de regressão polinomial\n",
        "degrees = [2, 3, 4]  # Grau 2, 3 e 4\n",
        "polynomial_results = {}\n",
        "\n",
        "# Se estiver rodando no Jupyter Notebook ou Colab, use display() para melhor visualização\n",
        "from IPython.display import display\n",
        "\n",
        "for d in degrees:\n",
        "    polynomial_results[d] = train_and_evaluate_polynomial_model(data, regions, degree=d)\n",
        "\n",
        "# Exibir tabelas para diferentes graus de polinômios no ambiente correto\n",
        "for d, df in polynomial_results.items():\n",
        "    display(df)  # Substitui ace_tools para visualização no Colab/Jupyter\n",
        "\n",
        "# Exibir tabela final com previsões da regressão polinomial quadrática\n",
        "print(polynomial_results[2])  # Exibir previsões de grau 2\n",
        "display(polynomial_results[2])  # Melhor visualização no Jupyter Notebook ou Colab"
      ]
    }
  ]
}